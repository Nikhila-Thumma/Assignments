{
 "cells": [
  {
   "cell_type": "markdown",
   "id": "3540fbca",
   "metadata": {},
   "source": [
    "Create a python program to find duplicate files by content. User will \n",
    "input path and it will scan all directories, sub-directories to find all \n",
    "duplicates files.\n",
    "Delete the found duplicate file.\n",
    "[Hint: use hashlib]"
   ]
  },
  {
   "cell_type": "code",
   "execution_count": 2,
   "id": "560d9241",
   "metadata": {},
   "outputs": [
    {
     "name": "stdout",
     "output_type": "stream",
     "text": [
      "Enter the file : D:/pyfile\n",
      "['test2.txt']\n",
      "Duplicate file test2.txt deleted successfully\n"
     ]
    }
   ],
   "source": [
    "import sys\n",
    "import os\n",
    "import hashlib\n",
    "\n",
    "p=input(\"Enter the file : \")\n",
    "files = os.listdir(p)\n",
    "directory = []\n",
    "for (dir_path, dir_name, files_name) in os.walk(p):\n",
    "    directory.extend(files_name)\n",
    "    \n",
    "#print(directory)\n",
    "hash_of_file=[]\n",
    "\n",
    "hash_del=[]\n",
    "parent_path = \"D:/pyfile/\"\n",
    "for files_name in directory:\n",
    "    path = os.path.join(parent_path,files_name)\n",
    "    fileobj1 = open(path, \"r\")\n",
    "    string1=fileobj1.read()\n",
    "    fileobj1.close()\n",
    "    message = hashlib.sha256()\n",
    "    message.update(string1.encode())\n",
    "    file_hash = message.hexdigest()\n",
    "    if file_hash not in hash_of_file:\n",
    "        hash_of_file.append(file_hash)\n",
    "    else:\n",
    "        hash_del.append(files_name)\n",
    "\n",
    "print(hash_del)\n",
    "for files_name in hash_del:\n",
    "    path = os.path.join(parent_path,files_name)\n",
    "    if os.path.isfile(path):\n",
    "        os.remove(path)\n",
    "        print(\"Duplicate file \"+ files_name +\" deleted successfully\")\n",
    "    else:\n",
    "        print(\"Error: %s file not found\" % files_name)"
   ]
  },
  {
   "cell_type": "markdown",
   "id": "5d671d5d",
   "metadata": {},
   "source": [
    "Generate random Password with exact length = 6, with minimum 1 \n",
    "uppercase, 2 lowercase, 2 digits, and remaining special characters.\n",
    "Using these packages [random, strings]"
   ]
  },
  {
   "cell_type": "code",
   "execution_count": 19,
   "id": "7287449f",
   "metadata": {},
   "outputs": [
    {
     "name": "stdout",
     "output_type": "stream",
     "text": [
      "Random Password :  yY111r\n"
     ]
    }
   ],
   "source": [
    "import random\n",
    "import string\n",
    "\n",
    "str2=\"\"\n",
    "s=random.choice(string.ascii_uppercase)\n",
    "str2=str2+s\n",
    "for i in range(2):\n",
    "    str1 = random.choice(string.ascii_lowercase)\n",
    "    str2 = str2+str1\n",
    "for i in range(3):\n",
    "    n=random.randint(0,9)\n",
    "    str2=str2+str(n)\n",
    "\n",
    "lst = []\n",
    "lst.extend(str2)\n",
    "\n",
    "random.shuffle(lst)\n",
    "\n",
    "str3=\"\"\n",
    "print(\"Random Password : \",str3.join(lst))"
   ]
  },
  {
   "cell_type": "markdown",
   "id": "5c77749c",
   "metadata": {},
   "source": [
    "Create 2D array and update the same 2D array provided that every \n",
    "prime number position should be replaced by cube of the positioned \n",
    "number."
   ]
  },
  {
   "cell_type": "code",
   "execution_count": 26,
   "id": "e1f1fd78",
   "metadata": {},
   "outputs": [
    {
     "data": {
      "text/plain": [
       "array([[   0,    1,    8,   27],\n",
       "       [   4,  125,    6,  343],\n",
       "       [   8,    9,   10, 1331],\n",
       "       [  12, 2197,   14,   15]])"
      ]
     },
     "execution_count": 26,
     "metadata": {},
     "output_type": "execute_result"
    }
   ],
   "source": [
    "import numpy as np\n",
    "\n",
    "arr=np.arange(0,16).reshape(4,4)\n",
    "\n",
    "for i in range(4):\n",
    "    for j in range(4):\n",
    "        flag = False\n",
    "        for k in range(2, arr[i][j]):\n",
    "             if (arr[i][j] % k) == 0:\n",
    "                    flag = True\n",
    "                    break\n",
    "        if (flag == False):\n",
    "            arr[i][j]=arr[i][j]*arr[i][j]*arr[i][j]\n",
    "            \n",
    "\n",
    "arr"
   ]
  },
  {
   "cell_type": "markdown",
   "id": "a0434feb",
   "metadata": {},
   "source": [
    "Python program to get the sum of every cubed value and its previous integer. \n",
    "# ( x + y^3 )"
   ]
  },
  {
   "cell_type": "code",
   "execution_count": 10,
   "id": "2d0fc011",
   "metadata": {},
   "outputs": [
    {
     "data": {
      "text/plain": [
       "array([[   0,    1,    9,   36],\n",
       "       [   4,  129,    6,  349],\n",
       "       [   8,    9,   10, 1341],\n",
       "       [  12, 2209,   14,   15]])"
      ]
     },
     "execution_count": 10,
     "metadata": {},
     "output_type": "execute_result"
    }
   ],
   "source": [
    "import numpy as np\n",
    "\n",
    "lst = [0,1,2,3,4,5,6,7,8,9,10,11,12,13,14,15]\n",
    "\n",
    "for i in range(1,len(lst)):\n",
    "    flag = False\n",
    "    for k in range(2,lst[i]):\n",
    "        if(lst[i]%k == 0):\n",
    "            flag = True\n",
    "            break\n",
    "    if(flag == False):\n",
    "        lst[i] = lst[i-1] + (lst[i]*lst[i]*lst[i])\n",
    "\n",
    "arr = np.array(lst).reshape(4,4)\n",
    "arr"
   ]
  },
  {
   "cell_type": "markdown",
   "id": "51dd096e",
   "metadata": {},
   "source": [
    "Given two arrays, find their intersection. Examples:\n",
    "Input:  arr1[] = [1, 3, 4, 5, 7]\n",
    "             arr2[] = [2, 3, 5, 6]"
   ]
  },
  {
   "cell_type": "code",
   "execution_count": 21,
   "id": "4a8c2911",
   "metadata": {},
   "outputs": [
    {
     "data": {
      "text/plain": [
       "array([3, 5])"
      ]
     },
     "execution_count": 21,
     "metadata": {},
     "output_type": "execute_result"
    }
   ],
   "source": [
    "arr1 = np.array([1, 3, 4, 5, 7])\n",
    "arr2 = np.array([2, 3, 5, 6])\n",
    "\n",
    "np.intersect1d(arr1,arr2)"
   ]
  },
  {
   "cell_type": "markdown",
   "id": "f60813d9",
   "metadata": {},
   "source": [
    "Create a 7 x 7  2D array having only multiples of 7. And return the last \n",
    "element of the same."
   ]
  },
  {
   "cell_type": "code",
   "execution_count": 22,
   "id": "b22d3664",
   "metadata": {},
   "outputs": [
    {
     "name": "stdout",
     "output_type": "stream",
     "text": [
      "[[  7  14  21  28  35  42  49]\n",
      " [ 56  63  70  77  84  91  98]\n",
      " [105 112 119 126 133 140 147]\n",
      " [154 161 168 175 182 189 196]\n",
      " [203 210 217 224 231 238 245]\n",
      " [252 259 266 273 280 287 294]\n",
      " [301 308 315 322 329 336 343]]\n"
     ]
    },
    {
     "data": {
      "text/plain": [
       "343"
      ]
     },
     "execution_count": 22,
     "metadata": {},
     "output_type": "execute_result"
    }
   ],
   "source": [
    "arr=np.arange(1,50).reshape(7,7)\n",
    "arr=arr*7\n",
    "print(arr)\n",
    "arr.max()"
   ]
  },
  {
   "cell_type": "markdown",
   "id": "9fa2c005",
   "metadata": {},
   "source": [
    "Checker Board Patten using Numpy:\n",
    "[   1   0   1   0   1   0   1\n",
    "    0   1   0   1   0   1   0\n",
    "    1   0   1   0   1   0   1\n",
    "    0   1   0   1   0   1   0\n",
    "    1   0   1   0   1   0   1  ]"
   ]
  },
  {
   "cell_type": "code",
   "execution_count": 23,
   "id": "a18143e2",
   "metadata": {},
   "outputs": [
    {
     "data": {
      "text/plain": [
       "array([[1., 0., 1., 0., 1.],\n",
       "       [0., 1., 0., 1., 0.],\n",
       "       [1., 0., 1., 0., 1.],\n",
       "       [0., 1., 0., 1., 0.],\n",
       "       [1., 0., 1., 0., 1.],\n",
       "       [0., 1., 0., 1., 0.],\n",
       "       [1., 0., 1., 0., 1.]])"
      ]
     },
     "execution_count": 23,
     "metadata": {},
     "output_type": "execute_result"
    }
   ],
   "source": [
    "arr = np.ones((7,5))\n",
    "arr[1::2,0::2] = 0\n",
    "arr[0::2,1::2] = 0\n",
    "arr"
   ]
  },
  {
   "cell_type": "markdown",
   "id": "cf94b808",
   "metadata": {},
   "source": [
    "Create a given Matrix:\n",
    "[  A,     B,     C,       D\n",
    "   E,      F,     G,       H\n",
    "    I,      a,      K,       L\n",
    "   M,    N,     o,       P\n",
    "   Q,     R,      S,       T\n",
    "   U,     0,     W,      O ]\n",
    "Replace all the vowels by np.nan\n",
    "A, E, I, O U  -- >  np.nan\n",
    "Return the count of the missing values"
   ]
  },
  {
   "cell_type": "code",
   "execution_count": 24,
   "id": "d7d9374c",
   "metadata": {},
   "outputs": [
    {
     "name": "stdout",
     "output_type": "stream",
     "text": [
      "5\n"
     ]
    },
    {
     "data": {
      "text/plain": [
       "array([['nan', 'R', 'N', 'X'],\n",
       "       ['S', 'Q', 'N', 'Z'],\n",
       "       ['G', 'nan', 'B', 'T'],\n",
       "       ['nan', 'S', 'H', 'Z'],\n",
       "       ['P', 'F', 'V', 'K'],\n",
       "       ['nan', 'S', 'Z', 'nan']], dtype=object)"
      ]
     },
     "execution_count": 24,
     "metadata": {},
     "output_type": "execute_result"
    }
   ],
   "source": [
    "import random\n",
    "import string \n",
    "\n",
    "arr=np.empty((6,4),dtype=\"object\")\n",
    "\n",
    "for i in range(6):\n",
    "    for j in range(4):\n",
    "        arr[i][j] = random.choice(string.ascii_uppercase)\n",
    "        \n",
    "\n",
    "count=0;\n",
    "for i in range(6):\n",
    "    for j in range(4):\n",
    "        if(arr[i][j] == 'A' or arr[i][j] == 'E' or arr[i][j] == 'I' or arr[i][j] == 'O' or arr[i][j] == 'U'):\n",
    "            arr[i][j] = str(np.nan)\n",
    "            count+=1\n",
    "\n",
    "\n",
    "print(count)\n",
    "arr"
   ]
  }
 ],
 "metadata": {
  "kernelspec": {
   "display_name": "Python 3 (ipykernel)",
   "language": "python",
   "name": "python3"
  },
  "language_info": {
   "codemirror_mode": {
    "name": "ipython",
    "version": 3
   },
   "file_extension": ".py",
   "mimetype": "text/x-python",
   "name": "python",
   "nbconvert_exporter": "python",
   "pygments_lexer": "ipython3",
   "version": "3.9.13"
  }
 },
 "nbformat": 4,
 "nbformat_minor": 5
}
