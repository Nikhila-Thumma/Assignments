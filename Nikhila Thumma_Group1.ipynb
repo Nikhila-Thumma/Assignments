{
 "cells": [
  {
   "cell_type": "markdown",
   "id": "76fc6aa3-6501-467f-9685-79bbe33d8eff",
   "metadata": {},
   "source": [
    "### 1. Create this dictionary:\n",
    "**{0: 0, 1: 1, 2: 8, 3: 27, 4: 64}\n",
    " using a dictionary comprehension.**"
   ]
  },
  {
   "cell_type": "code",
   "execution_count": 34,
   "id": "eb43ee1c",
   "metadata": {},
   "outputs": [
    {
     "name": "stdout",
     "output_type": "stream",
     "text": [
      "{0: 0, 1: 1, 2: 8, 3: 27, 4: 64}\n"
     ]
    }
   ],
   "source": [
    "d={}\n",
    "for i in range(0,5):\n",
    "    d[i]=i*i*i\n",
    "    \n",
    "print(d)"
   ]
  },
  {
   "cell_type": "markdown",
   "id": "4d499c8b-9a50-40c8-9e76-d5cc6bca4635",
   "metadata": {},
   "source": [
    "### 2. if the length of a word is even print \"even!\""
   ]
  },
  {
   "cell_type": "code",
   "execution_count": 11,
   "id": "2450d4df-7361-408e-a864-06143b116a5f",
   "metadata": {},
   "outputs": [
    {
     "name": "stdout",
     "output_type": "stream",
     "text": [
      "Odd\n"
     ]
    }
   ],
   "source": [
    "st = 'Print every word in this sentence that has an even number of letters'\n",
    "\n",
    "l=st.split(\" \")\n",
    "if(len(l)%2 == 0):\n",
    "    print(\"Even\")\n",
    "else:\n",
    "    print(\"Odd\")"
   ]
  },
  {
   "cell_type": "markdown",
   "id": "bc19e049-18b9-48c3-b321-40b108c4f95e",
   "metadata": {},
   "source": [
    "### 3. Generate Password: 17 characters , minimum 1 Uppercase, 1 lowercase, 1 digits and 2 minimun special characters"
   ]
  },
  {
   "cell_type": "code",
   "execution_count": 4,
   "id": "6895fdb6",
   "metadata": {},
   "outputs": [
    {
     "name": "stdout",
     "output_type": "stream",
     "text": [
      "Random Password :  m8hTNor7I8nKOLb6M\n"
     ]
    }
   ],
   "source": [
    "import random\n",
    "import string\n",
    "\n",
    "str2=\"\"\n",
    "\n",
    "for i in range(4):\n",
    "    s=random.choice(string.ascii_uppercase)\n",
    "    str2=str2+s\n",
    "\n",
    "    str1 = random.choice(string.ascii_lowercase)\n",
    "    str2 = str2+str1\n",
    "\n",
    "    n=random.randint(0,9)\n",
    "    str2=str2+str(n)\n",
    "\n",
    "    str3 = random.choice(string.ascii_letters)\n",
    "    str2=str2+str3\n",
    "\n",
    "str3 = random.choice(string.ascii_letters)\n",
    "str2=str2+str3\n",
    "\n",
    "lst = []\n",
    "lst.extend(str2)\n",
    "\n",
    "random.shuffle(lst)\n",
    "\n",
    "str3=\"\"\n",
    "print(\"Random Password : \",str3.join(lst))"
   ]
  },
  {
   "cell_type": "markdown",
   "id": "48cca1de-e507-4920-9caf-0b58e1d27f42",
   "metadata": {},
   "source": [
    "### 4. you are given a list which is [6, 15, 5, 3, 5, 14, 3, 202, 34, 235, 555, 6]. You have to sort it such that the seventh element is greatest of all, second element is greater than last element and second last element is not greater than sum of 8 and sixth element"
   ]
  },
  {
   "cell_type": "code",
   "execution_count": 27,
   "id": "c1ce4f60",
   "metadata": {},
   "outputs": [
    {
     "name": "stdout",
     "output_type": "stream",
     "text": [
      "[3, 14, 5, 5, 6, 235, 555, 15, 34, 202, 6, 3]\n"
     ]
    }
   ],
   "source": [
    "lst = [6, 15, 5, 3, 5, 14, 3, 202, 34, 235, 555, 6]\n",
    "\n",
    "lst.sort()\n",
    "\n",
    "b=lst[-1]\n",
    "a=lst[6]\n",
    "lst[6]=b\n",
    "lst[-1]= a\n",
    "\n",
    "if(lst[1] <= lst[-1]):\n",
    "    a=lst[1]\n",
    "    b=lst[-1]\n",
    "    lst[1]=b\n",
    "    lst[-1]=a\n",
    "    \n",
    "if(lst[-2] >= (lst[7]+lst[5])):\n",
    "    if lst[5]<lst[7]:\n",
    "        a=lst[5]\n",
    "        b=lst[-2]\n",
    "        lst[-2] = a\n",
    "        lst[5]=b\n",
    "    else:\n",
    "        a=lst[7]\n",
    "        b=lst[-2]\n",
    "        lst[-2] = a\n",
    "        lst[7]=b\n",
    "\n",
    "print(lst)"
   ]
  },
  {
   "cell_type": "markdown",
   "id": "4cc065eb-e5c5-40ff-9d82-2b6f8f2f43a6",
   "metadata": {},
   "source": [
    "### 5. Write a program that prints the integers from 1 to 100. But for multiples of three print \"Fizz\" instead of the number, and for the multiples of five print \"Buzz\". For numbers which are multiples of both three and five print \"FizzBuzz\"."
   ]
  },
  {
   "cell_type": "code",
   "execution_count": 13,
   "id": "f6ab4580",
   "metadata": {
    "collapsed": true
   },
   "outputs": [
    {
     "name": "stdout",
     "output_type": "stream",
     "text": [
      "1\n",
      "2\n",
      "Fizz\n",
      "4\n",
      "Buzz\n",
      "Fizz\n",
      "7\n",
      "8\n",
      "Fizz\n",
      "Buzz\n",
      "11\n",
      "Fizz\n",
      "13\n",
      "14\n",
      "FizzBuzz\n",
      "16\n",
      "17\n",
      "Fizz\n",
      "19\n",
      "Buzz\n",
      "Fizz\n",
      "22\n",
      "23\n",
      "Fizz\n",
      "Buzz\n",
      "26\n",
      "Fizz\n",
      "28\n",
      "29\n",
      "FizzBuzz\n",
      "31\n",
      "32\n",
      "Fizz\n",
      "34\n",
      "Buzz\n",
      "Fizz\n",
      "37\n",
      "38\n",
      "Fizz\n",
      "Buzz\n",
      "41\n",
      "Fizz\n",
      "43\n",
      "44\n",
      "FizzBuzz\n",
      "46\n",
      "47\n",
      "Fizz\n",
      "49\n",
      "Buzz\n",
      "Fizz\n",
      "52\n",
      "53\n",
      "Fizz\n",
      "Buzz\n",
      "56\n",
      "Fizz\n",
      "58\n",
      "59\n",
      "FizzBuzz\n",
      "61\n",
      "62\n",
      "Fizz\n",
      "64\n",
      "Buzz\n",
      "Fizz\n",
      "67\n",
      "68\n",
      "Fizz\n",
      "Buzz\n",
      "71\n",
      "Fizz\n",
      "73\n",
      "74\n",
      "FizzBuzz\n",
      "76\n",
      "77\n",
      "Fizz\n",
      "79\n",
      "Buzz\n",
      "Fizz\n",
      "82\n",
      "83\n",
      "Fizz\n",
      "Buzz\n",
      "86\n",
      "Fizz\n",
      "88\n",
      "89\n",
      "FizzBuzz\n",
      "91\n",
      "92\n",
      "Fizz\n",
      "94\n",
      "Buzz\n",
      "Fizz\n",
      "97\n",
      "98\n",
      "Fizz\n"
     ]
    }
   ],
   "source": [
    "for i in range(1,100):\n",
    "    if((i%3 == 0) and (i%5 == 0)):\n",
    "        print(\"FizzBuzz\")\n",
    "    elif(i%3 == 0):\n",
    "        print(\"Fizz\")\n",
    "    elif(i%5 == 0):\n",
    "        print(\"Buzz\")\n",
    "    else:\n",
    "        print(i)"
   ]
  },
  {
   "cell_type": "markdown",
   "id": "42943a70-2349-4290-ac41-a5c1a5cc2ff0",
   "metadata": {},
   "source": [
    "### 6. Write a program that accepts a sentence and calculate the number of letters and digits. Suppose the following input is supplied to the program."
   ]
  },
  {
   "cell_type": "code",
   "execution_count": 32,
   "id": "af548487",
   "metadata": {},
   "outputs": [
    {
     "name": "stdout",
     "output_type": "stream",
     "text": [
      "{'s': 2, 'a': 1, 'i': 1, 'd': 2, 'k': 1, 'l': 3, '3': 1, '7': 3, '6': 1, '8': 1}\n"
     ]
    }
   ],
   "source": [
    "str1 = \"saidkl376778sdll\"\n",
    "\n",
    "d={}\n",
    "for i in range(len(str1)):\n",
    "    sp=str1[i]\n",
    "    if(d.get(sp)):\n",
    "        d[sp] += 1\n",
    "    else:\n",
    "        d[sp] = 1\n",
    "print(d)"
   ]
  },
  {
   "cell_type": "markdown",
   "id": "ee9e1ad1-842c-4fff-9ee2-55e24eb24701",
   "metadata": {},
   "source": [
    "### 7. Exercise: Write a program which takes 2 digits, X,Y as input and generates a 2-dimensional array. The element value in the i-th row and j-th column of the array should be i*j\n",
    "\n",
    "[[0, 0, 0, 0, 0],\n",
    " [0, 1, 2, 3, 4],\n",
    " [0, 2, 4, 6, 8]\n",
    " ..............]]"
   ]
  },
  {
   "cell_type": "code",
   "execution_count": 3,
   "id": "c252a653",
   "metadata": {},
   "outputs": [
    {
     "name": "stdout",
     "output_type": "stream",
     "text": [
      "enter value of x : 3\n",
      "enter value of y : 4\n",
      "3\n"
     ]
    }
   ],
   "source": [
    "import numpy as np\n",
    "\n",
    "x = int(input(\"enter value of x : \"))\n",
    "y = int(input(\"enter value of y : \"))\n",
    "\n",
    "arr=np.array(x)\n",
    "print(arr)"
   ]
  },
  {
   "cell_type": "markdown",
   "id": "f1efcf4a-bc10-4189-8228-3270b0cf1483",
   "metadata": {},
   "source": [
    "## 8. For this challenge,\n",
    "Create a bank account class that has two attributes:\n",
    "\n",
    "owner balance and two methods:\n",
    "\n",
    "deposit withdraw As an added requirement, withdrawals may not exceed the available balance.\n",
    "\n",
    "Instantiate your class, make several deposits and withdrawals, and test to make sure the account can't be overdrawn."
   ]
  },
  {
   "cell_type": "code",
   "execution_count": 1,
   "id": "75e86b26",
   "metadata": {},
   "outputs": [
    {
     "name": "stdout",
     "output_type": "stream",
     "text": [
      "Enter owner name : Raj\n",
      "Enter account balance : 3000\n",
      "Enter (1) for DEPOSIT\n",
      "Enter (2) for WITHDRAW\n",
      "Enter(3) to exit\n",
      "1\n",
      "Enter deposit amt :30\n",
      "Balance is : 3030\n",
      "\n",
      "Enter (1) for DEPOSIT\n",
      "Enter (2) for WITHDRAW\n",
      "Enter(3) to exit\n",
      "2\n",
      "Enter withdrawal amt :100\n",
      "Remaining balance :  2930\n",
      "\n",
      "Enter (1) for DEPOSIT\n",
      "Enter (2) for WITHDRAW\n",
      "Enter(3) to exit\n",
      "3\n"
     ]
    }
   ],
   "source": [
    "class bank_account:\n",
    "    def __init__(self,owner,balance):\n",
    "        self.owner=owner\n",
    "        self.balance=balance\n",
    "    \n",
    "    def deposit(self):\n",
    "        d=int(input(\"Enter deposit amt :\"))\n",
    "        self.balance += d\n",
    "        print(\"Balance is :\",self.balance)\n",
    "        \n",
    "    def withdraw(self):\n",
    "        w=int(input(\"Enter withdrawal amt :\"))\n",
    "        if(self.balance > w):\n",
    "            self.balance -= w\n",
    "            print(\"Remaining balance : \",self.balance)\n",
    "        else:\n",
    "            print(\"Not enough balance\")\n",
    "        \n",
    "own=input(\"Enter owner name : \")\n",
    "bal=int(input(\"Enter account balance : \"))\n",
    "obj=bank_account(own,bal)\n",
    "print(\"Enter (1) for DEPOSIT\\nEnter (2) for WITHDRAW\\nEnter(3) to exit\")\n",
    "s = int(input())\n",
    "while True:\n",
    "    if s==1:\n",
    "        obj.deposit()\n",
    "        print(\"\\nEnter (1) for DEPOSIT\\nEnter (2) for WITHDRAW\\nEnter(3) to exit\")\n",
    "        s = int(input())\n",
    "    elif s==2:\n",
    "        obj.withdraw()\n",
    "        print(\"\\nEnter (1) for DEPOSIT\\nEnter (2) for WITHDRAW\\nEnter(3) to exit\")\n",
    "        s = int(input())\n",
    "    else:\n",
    "        break"
   ]
  }
 ],
 "metadata": {
  "kernelspec": {
   "display_name": "Python 3 (ipykernel)",
   "language": "python",
   "name": "python3"
  },
  "language_info": {
   "codemirror_mode": {
    "name": "ipython",
    "version": 3
   },
   "file_extension": ".py",
   "mimetype": "text/x-python",
   "name": "python",
   "nbconvert_exporter": "python",
   "pygments_lexer": "ipython3",
   "version": "3.9.13"
  }
 },
 "nbformat": 4,
 "nbformat_minor": 5
}
